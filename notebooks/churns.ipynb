{
 "cells": [
  {
   "cell_type": "markdown",
   "metadata": {},
   "source": [
    "<b>¡Hola Gerzon!</b>\n",
    "\n",
    "Mi nombre es Alejandro Abia y tengo el gusto de revisar tu proyecto.\n",
    "\n",
    "A continuación, encontrarás mis comentarios en celdas pintadas de tres colores (verde, amarillo y rojo), a manera de semáforo. Por favor, <b>no las borres ni muevas de posición</b> mientras dure el proceso de revisión.\n",
    "\n",
    "<div class=\"alert alert-block alert-success\">\n",
    "<b>Éxito</b> <a class=\"tocSkip\"></a>\n",
    "En celdas verdes encontrarás comentarios en relación a tus aciertos y fortalezas.\n",
    "</div>\n",
    "<div class=\"alert alert-block alert-warning\">\n",
    "<b>Antención</b> <a class=\"tocSkip\"></a>\n",
    "Utilizaré el color amarillo para llamar tu atención, expresar algo importante o compartirte alguna idea de valor.\n",
    "</div>\n",
    "<div class=\"alert alert-block alert-danger\">\n",
    "<b>A resolver</b> <a class=\"tocSkip\"></a>\n",
    "En rojo emitiré aquellos puntos que deberás atender para aprobar la revisión.\n",
    "</div>\n",
    "<div class=\"alert alert-block alert-info\">\n",
    "<b>Comentario estudiante</b><a class=\"tocSkip\"></a>\n",
    "Es factible que, a lo largo del proceso de revisión, quieras dejarme comentarios. Si es el caso, por favor realízalo dentro de celdas azules como esta.\n",
    "</div>\n",
    "Respecto del proceso de revisión, tu proyecto será aceptado una vez que los comentarios en rojo hayan sido atendidos.\n",
    "¡Empecemos!"
   ]
  },
  {
   "cell_type": "markdown",
   "metadata": {},
   "source": [
    "# Descripción del proyecto\n",
    "\n",
    "Los clientes de Beta Bank se están yendo, cada mes, poco a poco. Los banqueros descubrieron que es más barato salvar a los clientes existentes que atraer nuevos.\n",
    "\n",
    "Necesitamos predecir si un cliente dejará el banco pronto. Tú tienes los datos sobre el comportamiento pasado de los clientes y la terminación de contratos con el banco.\n",
    "\n",
    "Crea un modelo con el máximo valor F1 posible. Para aprobar la revisión, necesitas un valor F1 de al menos 0.59. Verifica F1 para el conjunto de prueba. \n",
    "\n",
    "Además, debes medir la métrica AUC-ROC y compararla con el valor F1."
   ]
  },
  {
   "cell_type": "markdown",
   "metadata": {},
   "source": [
    "# Instrucciones del proyecto\n",
    "\n",
    "1. Descarga y prepara los datos.  Explica el procedimiento.\n",
    "\n",
    "\n",
    "2. Examina el equilibrio de clases. Entrena el modelo sin tener en cuenta el desequilibrio. Describe brevemente tus hallazgos.\n",
    "\n",
    "\n",
    "3. Mejora la calidad del modelo. Asegúrate de utilizar al menos dos enfoques para corregir el desequilibrio de clases. Utiliza conjuntos de entrenamiento y validación para encontrar el mejor modelo y el mejor conjunto de parámetros. Entrena diferentes modelos en los conjuntos de entrenamiento y validación. Encuentra el mejor. Describe brevemente tus hallazgos.\n",
    "\n",
    "\n",
    "4. Realiza la prueba final."
   ]
  },
  {
   "cell_type": "markdown",
   "metadata": {},
   "source": [
    "# Descripción de los datos\n",
    "\n",
    "**Características**\n",
    "\n",
    "- **RowNumber**: índice de cadena de datos  \n",
    "- **CustomerId**: identificador de cliente único  \n",
    "- **Surname**: apellido  \n",
    "- **CreditScore**: valor de crédito  \n",
    "- **Geography**: país de residencia  \n",
    "- **Gender**: sexo  \n",
    "- **Age**: edad  \n",
    "- **Tenure**: período durante el cual ha madurado el depósito a plazo fijo de un cliente (años)  \n",
    "- **Balance**: saldo de la cuenta  \n",
    "- **NumOfProducts**: número de productos bancarios utilizados por el cliente  \n",
    "- **HasCrCard**: el cliente tiene una tarjeta de crédito (1 - sí; 0 - no)  \n",
    "- **IsActiveMember**: actividad del cliente (1 - sí; 0 - no)  \n",
    "- **EstimatedSalary**: salario estimado  \n",
    "\n",
    "**Objetivo**\n",
    "\n",
    "- **Exited**: el cliente se ha ido (1 - sí; 0 - no)\n"
   ]
  },
  {
   "cell_type": "code",
   "execution_count": 1,
   "metadata": {
    "trusted": false
   },
   "outputs": [
    {
     "name": "stdout",
     "output_type": "stream",
     "text": [
      "Requirement already satisfied: imbalanced-learn in /home/jovyan/.local/lib/python3.9/site-packages (0.12.4)\n",
      "Requirement already satisfied: numpy>=1.17.3 in /opt/conda/envs/python3/lib/python3.9/site-packages (from imbalanced-learn) (1.21.2)\n",
      "Requirement already satisfied: scipy>=1.5.0 in /opt/conda/envs/python3/lib/python3.9/site-packages (from imbalanced-learn) (1.10.1)\n",
      "Requirement already satisfied: scikit-learn>=1.0.2 in /home/jovyan/.local/lib/python3.9/site-packages (from imbalanced-learn) (1.6.1)\n",
      "Requirement already satisfied: joblib>=1.1.1 in /opt/conda/envs/python3/lib/python3.9/site-packages (from imbalanced-learn) (1.4.2)\n",
      "Requirement already satisfied: threadpoolctl>=2.0.0 in /opt/conda/envs/python3/lib/python3.9/site-packages (from imbalanced-learn) (3.5.0)\n"
     ]
    }
   ],
   "source": [
    "import sys\n",
    "!{sys.executable} -m pip install --user imbalanced-learn"
   ]
  },
  {
   "cell_type": "code",
   "execution_count": 2,
   "metadata": {
    "trusted": false
   },
   "outputs": [
    {
     "name": "stdout",
     "output_type": "stream",
     "text": [
      "Requirement already satisfied: imbalanced-learn in /home/jovyan/.local/lib/python3.10/site-packages (0.13.0)\n",
      "Requirement already satisfied: joblib<2,>=1.1.1 in /home/jovyan/.local/lib/python3.10/site-packages (from imbalanced-learn) (1.4.2)\n",
      "Requirement already satisfied: numpy<3,>=1.24.3 in /home/jovyan/.local/lib/python3.10/site-packages (from imbalanced-learn) (2.2.4)\n",
      "Requirement already satisfied: scikit-learn<2,>=1.3.2 in /home/jovyan/.local/lib/python3.10/site-packages (from imbalanced-learn) (1.6.1)\n",
      "Requirement already satisfied: sklearn-compat<1,>=0.1 in /home/jovyan/.local/lib/python3.10/site-packages (from imbalanced-learn) (0.1.3)\n",
      "Requirement already satisfied: scipy<2,>=1.10.1 in /home/jovyan/.local/lib/python3.10/site-packages (from imbalanced-learn) (1.15.2)\n",
      "Requirement already satisfied: threadpoolctl<4,>=2.0.0 in /home/jovyan/.local/lib/python3.10/site-packages (from imbalanced-learn) (3.6.0)\n"
     ]
    }
   ],
   "source": [
    "# Requiere instalación de imblearn\n",
    "!pip install --user imbalanced-learn"
   ]
  },
  {
   "cell_type": "code",
   "execution_count": 3,
   "metadata": {
    "trusted": false
   },
   "outputs": [],
   "source": [
    "import pandas as pd\n",
    "from sklearn.model_selection import train_test_split\n",
    "from sklearn.preprocessing import StandardScaler, LabelEncoder\n",
    "from sklearn.ensemble import RandomForestClassifier\n",
    "from sklearn.metrics import f1_score, roc_auc_score, classification_report\n",
    "from imblearn.over_sampling import SMOTE\n",
    "from imblearn.under_sampling import RandomUnderSampler\n",
    "from imblearn.pipeline import Pipeline as ImbPipeline\n",
    "from sklearn.impute import SimpleImputer"
   ]
  },
  {
   "cell_type": "code",
   "execution_count": 1,
   "metadata": {},
   "outputs": [],
   "source": [
    "import pandas as pd"
   ]
  },
  {
   "cell_type": "code",
   "execution_count": 4,
   "metadata": {
    "trusted": false
   },
   "outputs": [
    {
     "data": {
      "text/html": [
       "<div>\n",
       "<style scoped>\n",
       "    .dataframe tbody tr th:only-of-type {\n",
       "        vertical-align: middle;\n",
       "    }\n",
       "\n",
       "    .dataframe tbody tr th {\n",
       "        vertical-align: top;\n",
       "    }\n",
       "\n",
       "    .dataframe thead th {\n",
       "        text-align: right;\n",
       "    }\n",
       "</style>\n",
       "<table border=\"1\" class=\"dataframe\">\n",
       "  <thead>\n",
       "    <tr style=\"text-align: right;\">\n",
       "      <th></th>\n",
       "      <th>RowNumber</th>\n",
       "      <th>CustomerId</th>\n",
       "      <th>Surname</th>\n",
       "      <th>CreditScore</th>\n",
       "      <th>Geography</th>\n",
       "      <th>Gender</th>\n",
       "      <th>Age</th>\n",
       "      <th>Tenure</th>\n",
       "      <th>Balance</th>\n",
       "      <th>NumOfProducts</th>\n",
       "      <th>HasCrCard</th>\n",
       "      <th>IsActiveMember</th>\n",
       "      <th>EstimatedSalary</th>\n",
       "      <th>Exited</th>\n",
       "    </tr>\n",
       "  </thead>\n",
       "  <tbody>\n",
       "    <tr>\n",
       "      <th>0</th>\n",
       "      <td>1</td>\n",
       "      <td>15634602</td>\n",
       "      <td>Hargrave</td>\n",
       "      <td>619</td>\n",
       "      <td>France</td>\n",
       "      <td>Female</td>\n",
       "      <td>42</td>\n",
       "      <td>2.0</td>\n",
       "      <td>0.00</td>\n",
       "      <td>1</td>\n",
       "      <td>1</td>\n",
       "      <td>1</td>\n",
       "      <td>101348.88</td>\n",
       "      <td>1</td>\n",
       "    </tr>\n",
       "    <tr>\n",
       "      <th>1</th>\n",
       "      <td>2</td>\n",
       "      <td>15647311</td>\n",
       "      <td>Hill</td>\n",
       "      <td>608</td>\n",
       "      <td>Spain</td>\n",
       "      <td>Female</td>\n",
       "      <td>41</td>\n",
       "      <td>1.0</td>\n",
       "      <td>83807.86</td>\n",
       "      <td>1</td>\n",
       "      <td>0</td>\n",
       "      <td>1</td>\n",
       "      <td>112542.58</td>\n",
       "      <td>0</td>\n",
       "    </tr>\n",
       "    <tr>\n",
       "      <th>2</th>\n",
       "      <td>3</td>\n",
       "      <td>15619304</td>\n",
       "      <td>Onio</td>\n",
       "      <td>502</td>\n",
       "      <td>France</td>\n",
       "      <td>Female</td>\n",
       "      <td>42</td>\n",
       "      <td>8.0</td>\n",
       "      <td>159660.80</td>\n",
       "      <td>3</td>\n",
       "      <td>1</td>\n",
       "      <td>0</td>\n",
       "      <td>113931.57</td>\n",
       "      <td>1</td>\n",
       "    </tr>\n",
       "    <tr>\n",
       "      <th>3</th>\n",
       "      <td>4</td>\n",
       "      <td>15701354</td>\n",
       "      <td>Boni</td>\n",
       "      <td>699</td>\n",
       "      <td>France</td>\n",
       "      <td>Female</td>\n",
       "      <td>39</td>\n",
       "      <td>1.0</td>\n",
       "      <td>0.00</td>\n",
       "      <td>2</td>\n",
       "      <td>0</td>\n",
       "      <td>0</td>\n",
       "      <td>93826.63</td>\n",
       "      <td>0</td>\n",
       "    </tr>\n",
       "    <tr>\n",
       "      <th>4</th>\n",
       "      <td>5</td>\n",
       "      <td>15737888</td>\n",
       "      <td>Mitchell</td>\n",
       "      <td>850</td>\n",
       "      <td>Spain</td>\n",
       "      <td>Female</td>\n",
       "      <td>43</td>\n",
       "      <td>2.0</td>\n",
       "      <td>125510.82</td>\n",
       "      <td>1</td>\n",
       "      <td>1</td>\n",
       "      <td>1</td>\n",
       "      <td>79084.10</td>\n",
       "      <td>0</td>\n",
       "    </tr>\n",
       "  </tbody>\n",
       "</table>\n",
       "</div>"
      ],
      "text/plain": [
       "   RowNumber  CustomerId   Surname  CreditScore Geography  Gender  Age  \\\n",
       "0          1    15634602  Hargrave          619    France  Female   42   \n",
       "1          2    15647311      Hill          608     Spain  Female   41   \n",
       "2          3    15619304      Onio          502    France  Female   42   \n",
       "3          4    15701354      Boni          699    France  Female   39   \n",
       "4          5    15737888  Mitchell          850     Spain  Female   43   \n",
       "\n",
       "   Tenure    Balance  NumOfProducts  HasCrCard  IsActiveMember  \\\n",
       "0     2.0       0.00              1          1               1   \n",
       "1     1.0   83807.86              1          0               1   \n",
       "2     8.0  159660.80              3          1               0   \n",
       "3     1.0       0.00              2          0               0   \n",
       "4     2.0  125510.82              1          1               1   \n",
       "\n",
       "   EstimatedSalary  Exited  \n",
       "0        101348.88       1  \n",
       "1        112542.58       0  \n",
       "2        113931.57       1  \n",
       "3         93826.63       0  \n",
       "4         79084.10       0  "
      ]
     },
     "execution_count": 4,
     "metadata": {},
     "output_type": "execute_result"
    }
   ],
   "source": [
    "# Cargar datos\n",
    "df = pd.read_csv(\"/datasets/Churn.csv\")\n",
    "df.head()"
   ]
  },
  {
   "cell_type": "code",
   "execution_count": 5,
   "metadata": {
    "trusted": false
   },
   "outputs": [
    {
     "data": {
      "text/html": [
       "<div>\n",
       "<style scoped>\n",
       "    .dataframe tbody tr th:only-of-type {\n",
       "        vertical-align: middle;\n",
       "    }\n",
       "\n",
       "    .dataframe tbody tr th {\n",
       "        vertical-align: top;\n",
       "    }\n",
       "\n",
       "    .dataframe thead th {\n",
       "        text-align: right;\n",
       "    }\n",
       "</style>\n",
       "<table border=\"1\" class=\"dataframe\">\n",
       "  <thead>\n",
       "    <tr style=\"text-align: right;\">\n",
       "      <th></th>\n",
       "      <th>RowNumber</th>\n",
       "      <th>CustomerId</th>\n",
       "      <th>CreditScore</th>\n",
       "      <th>Age</th>\n",
       "      <th>Tenure</th>\n",
       "      <th>Balance</th>\n",
       "      <th>NumOfProducts</th>\n",
       "      <th>HasCrCard</th>\n",
       "      <th>IsActiveMember</th>\n",
       "      <th>EstimatedSalary</th>\n",
       "      <th>Exited</th>\n",
       "    </tr>\n",
       "  </thead>\n",
       "  <tbody>\n",
       "    <tr>\n",
       "      <th>count</th>\n",
       "      <td>10000.00000</td>\n",
       "      <td>1.000000e+04</td>\n",
       "      <td>10000.000000</td>\n",
       "      <td>10000.000000</td>\n",
       "      <td>9091.000000</td>\n",
       "      <td>10000.000000</td>\n",
       "      <td>10000.000000</td>\n",
       "      <td>10000.00000</td>\n",
       "      <td>10000.000000</td>\n",
       "      <td>10000.000000</td>\n",
       "      <td>10000.000000</td>\n",
       "    </tr>\n",
       "    <tr>\n",
       "      <th>mean</th>\n",
       "      <td>5000.50000</td>\n",
       "      <td>1.569094e+07</td>\n",
       "      <td>650.528800</td>\n",
       "      <td>38.921800</td>\n",
       "      <td>4.997690</td>\n",
       "      <td>76485.889288</td>\n",
       "      <td>1.530200</td>\n",
       "      <td>0.70550</td>\n",
       "      <td>0.515100</td>\n",
       "      <td>100090.239881</td>\n",
       "      <td>0.203700</td>\n",
       "    </tr>\n",
       "    <tr>\n",
       "      <th>std</th>\n",
       "      <td>2886.89568</td>\n",
       "      <td>7.193619e+04</td>\n",
       "      <td>96.653299</td>\n",
       "      <td>10.487806</td>\n",
       "      <td>2.894723</td>\n",
       "      <td>62397.405202</td>\n",
       "      <td>0.581654</td>\n",
       "      <td>0.45584</td>\n",
       "      <td>0.499797</td>\n",
       "      <td>57510.492818</td>\n",
       "      <td>0.402769</td>\n",
       "    </tr>\n",
       "    <tr>\n",
       "      <th>min</th>\n",
       "      <td>1.00000</td>\n",
       "      <td>1.556570e+07</td>\n",
       "      <td>350.000000</td>\n",
       "      <td>18.000000</td>\n",
       "      <td>0.000000</td>\n",
       "      <td>0.000000</td>\n",
       "      <td>1.000000</td>\n",
       "      <td>0.00000</td>\n",
       "      <td>0.000000</td>\n",
       "      <td>11.580000</td>\n",
       "      <td>0.000000</td>\n",
       "    </tr>\n",
       "    <tr>\n",
       "      <th>25%</th>\n",
       "      <td>2500.75000</td>\n",
       "      <td>1.562853e+07</td>\n",
       "      <td>584.000000</td>\n",
       "      <td>32.000000</td>\n",
       "      <td>2.000000</td>\n",
       "      <td>0.000000</td>\n",
       "      <td>1.000000</td>\n",
       "      <td>0.00000</td>\n",
       "      <td>0.000000</td>\n",
       "      <td>51002.110000</td>\n",
       "      <td>0.000000</td>\n",
       "    </tr>\n",
       "    <tr>\n",
       "      <th>50%</th>\n",
       "      <td>5000.50000</td>\n",
       "      <td>1.569074e+07</td>\n",
       "      <td>652.000000</td>\n",
       "      <td>37.000000</td>\n",
       "      <td>5.000000</td>\n",
       "      <td>97198.540000</td>\n",
       "      <td>1.000000</td>\n",
       "      <td>1.00000</td>\n",
       "      <td>1.000000</td>\n",
       "      <td>100193.915000</td>\n",
       "      <td>0.000000</td>\n",
       "    </tr>\n",
       "    <tr>\n",
       "      <th>75%</th>\n",
       "      <td>7500.25000</td>\n",
       "      <td>1.575323e+07</td>\n",
       "      <td>718.000000</td>\n",
       "      <td>44.000000</td>\n",
       "      <td>7.000000</td>\n",
       "      <td>127644.240000</td>\n",
       "      <td>2.000000</td>\n",
       "      <td>1.00000</td>\n",
       "      <td>1.000000</td>\n",
       "      <td>149388.247500</td>\n",
       "      <td>0.000000</td>\n",
       "    </tr>\n",
       "    <tr>\n",
       "      <th>max</th>\n",
       "      <td>10000.00000</td>\n",
       "      <td>1.581569e+07</td>\n",
       "      <td>850.000000</td>\n",
       "      <td>92.000000</td>\n",
       "      <td>10.000000</td>\n",
       "      <td>250898.090000</td>\n",
       "      <td>4.000000</td>\n",
       "      <td>1.00000</td>\n",
       "      <td>1.000000</td>\n",
       "      <td>199992.480000</td>\n",
       "      <td>1.000000</td>\n",
       "    </tr>\n",
       "  </tbody>\n",
       "</table>\n",
       "</div>"
      ],
      "text/plain": [
       "         RowNumber    CustomerId   CreditScore           Age       Tenure  \\\n",
       "count  10000.00000  1.000000e+04  10000.000000  10000.000000  9091.000000   \n",
       "mean    5000.50000  1.569094e+07    650.528800     38.921800     4.997690   \n",
       "std     2886.89568  7.193619e+04     96.653299     10.487806     2.894723   \n",
       "min        1.00000  1.556570e+07    350.000000     18.000000     0.000000   \n",
       "25%     2500.75000  1.562853e+07    584.000000     32.000000     2.000000   \n",
       "50%     5000.50000  1.569074e+07    652.000000     37.000000     5.000000   \n",
       "75%     7500.25000  1.575323e+07    718.000000     44.000000     7.000000   \n",
       "max    10000.00000  1.581569e+07    850.000000     92.000000    10.000000   \n",
       "\n",
       "             Balance  NumOfProducts    HasCrCard  IsActiveMember  \\\n",
       "count   10000.000000   10000.000000  10000.00000    10000.000000   \n",
       "mean    76485.889288       1.530200      0.70550        0.515100   \n",
       "std     62397.405202       0.581654      0.45584        0.499797   \n",
       "min         0.000000       1.000000      0.00000        0.000000   \n",
       "25%         0.000000       1.000000      0.00000        0.000000   \n",
       "50%     97198.540000       1.000000      1.00000        1.000000   \n",
       "75%    127644.240000       2.000000      1.00000        1.000000   \n",
       "max    250898.090000       4.000000      1.00000        1.000000   \n",
       "\n",
       "       EstimatedSalary        Exited  \n",
       "count     10000.000000  10000.000000  \n",
       "mean     100090.239881      0.203700  \n",
       "std       57510.492818      0.402769  \n",
       "min          11.580000      0.000000  \n",
       "25%       51002.110000      0.000000  \n",
       "50%      100193.915000      0.000000  \n",
       "75%      149388.247500      0.000000  \n",
       "max      199992.480000      1.000000  "
      ]
     },
     "execution_count": 5,
     "metadata": {},
     "output_type": "execute_result"
    }
   ],
   "source": [
    "df.describe()"
   ]
  },
  {
   "cell_type": "code",
   "execution_count": 6,
   "metadata": {
    "scrolled": true,
    "trusted": false
   },
   "outputs": [
    {
     "name": "stdout",
     "output_type": "stream",
     "text": [
      "<class 'pandas.core.frame.DataFrame'>\n",
      "RangeIndex: 10000 entries, 0 to 9999\n",
      "Data columns (total 14 columns):\n",
      " #   Column           Non-Null Count  Dtype  \n",
      "---  ------           --------------  -----  \n",
      " 0   RowNumber        10000 non-null  int64  \n",
      " 1   CustomerId       10000 non-null  int64  \n",
      " 2   Surname          10000 non-null  object \n",
      " 3   CreditScore      10000 non-null  int64  \n",
      " 4   Geography        10000 non-null  object \n",
      " 5   Gender           10000 non-null  object \n",
      " 6   Age              10000 non-null  int64  \n",
      " 7   Tenure           9091 non-null   float64\n",
      " 8   Balance          10000 non-null  float64\n",
      " 9   NumOfProducts    10000 non-null  int64  \n",
      " 10  HasCrCard        10000 non-null  int64  \n",
      " 11  IsActiveMember   10000 non-null  int64  \n",
      " 12  EstimatedSalary  10000 non-null  float64\n",
      " 13  Exited           10000 non-null  int64  \n",
      "dtypes: float64(3), int64(8), object(3)\n",
      "memory usage: 1.1+ MB\n"
     ]
    }
   ],
   "source": [
    "df.info()"
   ]
  },
  {
   "cell_type": "markdown",
   "metadata": {},
   "source": [
    "<div class=\"alert alert-block alert-success\">\n",
    "<b>Celdas [4–6]</b> <a class=\"tocSkip\"></a><br>\n",
    "La carga, exploración inicial y revisión de tipos de datos están correctamente realizadas. Se utilizaron funciones adecuadas como <code>head()</code>, <code>describe()</code> e <code>info()</code> para familiarizarse con el conjunto de datos. También es positivo que se haya verificado la existencia de valores nulos antes de continuar.\n",
    "</div>"
   ]
  },
  {
   "cell_type": "code",
   "execution_count": 7,
   "metadata": {
    "trusted": false
   },
   "outputs": [
    {
     "data": {
      "text/plain": [
       "RowNumber            0\n",
       "CustomerId           0\n",
       "Surname              0\n",
       "CreditScore          0\n",
       "Geography            0\n",
       "Gender               0\n",
       "Age                  0\n",
       "Tenure             909\n",
       "Balance              0\n",
       "NumOfProducts        0\n",
       "HasCrCard            0\n",
       "IsActiveMember       0\n",
       "EstimatedSalary      0\n",
       "Exited               0\n",
       "dtype: int64"
      ]
     },
     "execution_count": 7,
     "metadata": {},
     "output_type": "execute_result"
    }
   ],
   "source": [
    "df.isnull().sum()"
   ]
  },
  {
   "cell_type": "code",
   "execution_count": 8,
   "metadata": {
    "trusted": false
   },
   "outputs": [],
   "source": [
    "# 1. Preparación de datos\n",
    "df = df.drop(columns=[\"RowNumber\", \"CustomerId\", \"Surname\"])  # Eliminar columnas irrelevantes"
   ]
  },
  {
   "cell_type": "markdown",
   "metadata": {},
   "source": [
    "<div class=\"alert alert-block alert-warning\">\n",
    "<b>Celdas [7–8]</b> <a class=\"tocSkip\"></a><br>\n",
    "Se eliminan columnas irrelevantes correctamente. No obstante, hubiera sido recomendable justificar brevemente la decisión de eliminar las columnas <code>RowNumber</code>, <code>CustomerId</code> y <code>Surname</code>, mencionando que no aportan información predictiva al modelo.\n",
    "</div>"
   ]
  },
  {
   "cell_type": "code",
   "execution_count": 9,
   "metadata": {
    "trusted": false
   },
   "outputs": [
    {
     "data": {
      "text/html": [
       "<div>\n",
       "<style scoped>\n",
       "    .dataframe tbody tr th:only-of-type {\n",
       "        vertical-align: middle;\n",
       "    }\n",
       "\n",
       "    .dataframe tbody tr th {\n",
       "        vertical-align: top;\n",
       "    }\n",
       "\n",
       "    .dataframe thead th {\n",
       "        text-align: right;\n",
       "    }\n",
       "</style>\n",
       "<table border=\"1\" class=\"dataframe\">\n",
       "  <thead>\n",
       "    <tr style=\"text-align: right;\">\n",
       "      <th></th>\n",
       "      <th>CreditScore</th>\n",
       "      <th>Gender</th>\n",
       "      <th>Age</th>\n",
       "      <th>Tenure</th>\n",
       "      <th>Balance</th>\n",
       "      <th>NumOfProducts</th>\n",
       "      <th>HasCrCard</th>\n",
       "      <th>IsActiveMember</th>\n",
       "      <th>EstimatedSalary</th>\n",
       "      <th>Exited</th>\n",
       "      <th>Geography_Germany</th>\n",
       "      <th>Geography_Spain</th>\n",
       "    </tr>\n",
       "  </thead>\n",
       "  <tbody>\n",
       "    <tr>\n",
       "      <th>0</th>\n",
       "      <td>619</td>\n",
       "      <td>0</td>\n",
       "      <td>42</td>\n",
       "      <td>2.0</td>\n",
       "      <td>0.00</td>\n",
       "      <td>1</td>\n",
       "      <td>1</td>\n",
       "      <td>1</td>\n",
       "      <td>101348.88</td>\n",
       "      <td>1</td>\n",
       "      <td>0</td>\n",
       "      <td>0</td>\n",
       "    </tr>\n",
       "    <tr>\n",
       "      <th>1</th>\n",
       "      <td>608</td>\n",
       "      <td>0</td>\n",
       "      <td>41</td>\n",
       "      <td>1.0</td>\n",
       "      <td>83807.86</td>\n",
       "      <td>1</td>\n",
       "      <td>0</td>\n",
       "      <td>1</td>\n",
       "      <td>112542.58</td>\n",
       "      <td>0</td>\n",
       "      <td>0</td>\n",
       "      <td>1</td>\n",
       "    </tr>\n",
       "    <tr>\n",
       "      <th>2</th>\n",
       "      <td>502</td>\n",
       "      <td>0</td>\n",
       "      <td>42</td>\n",
       "      <td>8.0</td>\n",
       "      <td>159660.80</td>\n",
       "      <td>3</td>\n",
       "      <td>1</td>\n",
       "      <td>0</td>\n",
       "      <td>113931.57</td>\n",
       "      <td>1</td>\n",
       "      <td>0</td>\n",
       "      <td>0</td>\n",
       "    </tr>\n",
       "    <tr>\n",
       "      <th>3</th>\n",
       "      <td>699</td>\n",
       "      <td>0</td>\n",
       "      <td>39</td>\n",
       "      <td>1.0</td>\n",
       "      <td>0.00</td>\n",
       "      <td>2</td>\n",
       "      <td>0</td>\n",
       "      <td>0</td>\n",
       "      <td>93826.63</td>\n",
       "      <td>0</td>\n",
       "      <td>0</td>\n",
       "      <td>0</td>\n",
       "    </tr>\n",
       "    <tr>\n",
       "      <th>4</th>\n",
       "      <td>850</td>\n",
       "      <td>0</td>\n",
       "      <td>43</td>\n",
       "      <td>2.0</td>\n",
       "      <td>125510.82</td>\n",
       "      <td>1</td>\n",
       "      <td>1</td>\n",
       "      <td>1</td>\n",
       "      <td>79084.10</td>\n",
       "      <td>0</td>\n",
       "      <td>0</td>\n",
       "      <td>1</td>\n",
       "    </tr>\n",
       "  </tbody>\n",
       "</table>\n",
       "</div>"
      ],
      "text/plain": [
       "   CreditScore  Gender  Age  Tenure    Balance  NumOfProducts  HasCrCard  \\\n",
       "0          619       0   42     2.0       0.00              1          1   \n",
       "1          608       0   41     1.0   83807.86              1          0   \n",
       "2          502       0   42     8.0  159660.80              3          1   \n",
       "3          699       0   39     1.0       0.00              2          0   \n",
       "4          850       0   43     2.0  125510.82              1          1   \n",
       "\n",
       "   IsActiveMember  EstimatedSalary  Exited  Geography_Germany  Geography_Spain  \n",
       "0               1        101348.88       1                  0                0  \n",
       "1               1        112542.58       0                  0                1  \n",
       "2               0        113931.57       1                  0                0  \n",
       "3               0         93826.63       0                  0                0  \n",
       "4               1         79084.10       0                  0                1  "
      ]
     },
     "execution_count": 9,
     "metadata": {},
     "output_type": "execute_result"
    }
   ],
   "source": [
    "# Codificar variables categóricas\n",
    "df['Gender'] = LabelEncoder().fit_transform(df['Gender'])  # Male = 1, Female = 0\n",
    "df = pd.get_dummies(df, columns=['Geography'], drop_first=True)\n",
    "df.head()"
   ]
  },
  {
   "cell_type": "code",
   "execution_count": 10,
   "metadata": {
    "trusted": false
   },
   "outputs": [],
   "source": [
    "# Separar características y etiqueta\n",
    "X = df.drop('Exited', axis=1)\n",
    "y = df['Exited']"
   ]
  },
  {
   "cell_type": "code",
   "execution_count": 11,
   "metadata": {
    "trusted": false
   },
   "outputs": [],
   "source": [
    "imputer = SimpleImputer(strategy='mean')\n",
    "X = pd.DataFrame(imputer.fit_transform(X), columns=X.columns)"
   ]
  },
  {
   "cell_type": "markdown",
   "metadata": {},
   "source": [
    "<div class=\"alert alert-block alert-success\">\n",
    "<b>Celdas [9–11]</b> <a class=\"tocSkip\"></a><br>\n",
    "La codificación de variables categóricas está bien resuelta. Además, se imputa correctamente el valor nulo en la columna <code>Tenure</code> usando la media, lo cual es apropiado dado el tipo de variable. Buen uso de <code>SimpleImputer</code>.\n",
    "</div>"
   ]
  },
  {
   "cell_type": "code",
   "execution_count": 12,
   "metadata": {
    "trusted": false
   },
   "outputs": [],
   "source": [
    "# Dividir en train, val, test (60%, 20%, 20%)\n",
    "X_temp, X_test, y_temp, y_test = train_test_split(X, y, test_size=0.2, stratify=y, random_state=42)\n",
    "X_train, X_val, y_train, y_val = train_test_split(X_temp, y_temp, test_size=0.25, stratify=y_temp, random_state=42)"
   ]
  },
  {
   "cell_type": "code",
   "execution_count": 13,
   "metadata": {
    "trusted": false
   },
   "outputs": [],
   "source": [
    "# Escalar características\n",
    "scaler = StandardScaler()\n",
    "X_train_scaled = scaler.fit_transform(X_train)\n",
    "X_val_scaled = scaler.transform(X_val)\n",
    "X_test_scaled = scaler.transform(X_test)"
   ]
  },
  {
   "cell_type": "markdown",
   "metadata": {},
   "source": [
    "<div class=\"alert alert-block alert-success\">\n",
    "<b>Celdas [12–13]</b> <a class=\"tocSkip\"></a><br>\n",
    "Excelente decisión al dividir los datos en conjuntos de entrenamiento, validación y prueba con estratificación, lo cual garantiza que se conserve la proporción de clases. El escalamiento de variables también fue aplicado correctamente.\n",
    "</div>"
   ]
  },
  {
   "cell_type": "code",
   "execution_count": 14,
   "metadata": {
    "trusted": false
   },
   "outputs": [
    {
     "name": "stdout",
     "output_type": "stream",
     "text": [
      "Modelo Base:\n",
      "F1 Score: 0.5851\n",
      "AUC-ROC: 0.8555\n",
      "\n"
     ]
    }
   ],
   "source": [
    "# 2. Modelo base sin tratar desequilibrio\n",
    "base_model = RandomForestClassifier(random_state=42)\n",
    "base_model.fit(X_train_scaled, y_train)\n",
    "y_pred_base = base_model.predict(X_val_scaled)\n",
    "\n",
    "f1_base = f1_score(y_val, y_pred_base)\n",
    "roc_auc_base = roc_auc_score(y_val, base_model.predict_proba(X_val_scaled)[:, 1])\n",
    "\n",
    "print(\"Modelo Base:\")\n",
    "print(\"F1 Score:\", round(f1_base, 4))\n",
    "print(\"AUC-ROC:\", round(roc_auc_base, 4))\n",
    "print()"
   ]
  },
  {
   "cell_type": "markdown",
   "metadata": {},
   "source": [
    "<div class=\"alert alert-block alert-success\">\n",
    "<b>Celda [14]</b> <a class=\"tocSkip\"></a><br>\n",
    "El modelo base está bien entrenado y evaluado. Se usan métricas clave como F1 y AUC-ROC, y los resultados se reportan de forma clara. Esto sirve como referencia sólida para evaluar las mejoras posteriores.\n",
    "</div>"
   ]
  },
  {
   "cell_type": "code",
   "execution_count": 15,
   "metadata": {
    "scrolled": true,
    "trusted": false
   },
   "outputs": [
    {
     "name": "stdout",
     "output_type": "stream",
     "text": [
      "Modelo con SMOTE:\n",
      "F1 Score: 0.618\n",
      "AUC-ROC: 0.8528\n",
      "\n"
     ]
    }
   ],
   "source": [
    "# 3. Modelo con SMOTE\n",
    "smote_pipeline = ImbPipeline(steps=[\n",
    "    ('smote', SMOTE(random_state=42)),\n",
    "    ('model', RandomForestClassifier(random_state=42))\n",
    "])\n",
    "smote_pipeline.fit(X_train_scaled, y_train)\n",
    "y_pred_smote = smote_pipeline.predict(X_val_scaled)\n",
    "\n",
    "f1_smote = f1_score(y_val, y_pred_smote)\n",
    "roc_auc_smote = roc_auc_score(y_val, smote_pipeline.predict_proba(X_val_scaled)[:, 1])\n",
    "\n",
    "print(\"Modelo con SMOTE:\")\n",
    "print(\"F1 Score:\", round(f1_smote, 4))\n",
    "print(\"AUC-ROC:\", round(roc_auc_smote, 4))\n",
    "print()"
   ]
  },
  {
   "cell_type": "markdown",
   "metadata": {},
   "source": [
    "<div class=\"alert alert-block alert-success\">\n",
    "<b>Celda [15]</b> <a class=\"tocSkip\"></a><br>\n",
    "Muy buena implementación de SMOTE con <code>Pipeline</code>. El uso de sobremuestreo mejora la métrica F1 respecto al modelo base, lo cual indica que la técnica tuvo un impacto positivo. Se reportan bien los resultados.\n",
    "</div>"
   ]
  },
  {
   "cell_type": "code",
   "execution_count": 17,
   "metadata": {
    "trusted": false
   },
   "outputs": [
    {
     "name": "stdout",
     "output_type": "stream",
     "text": [
      "Modelo con Undersampling:\n",
      "F1 Score: 0.6094\n",
      "AUC-ROC: 0.8635\n",
      "\n"
     ]
    }
   ],
   "source": [
    "# 4. Modelo con Undersampling\n",
    "under_pipeline = ImbPipeline(steps=[\n",
    "    ('under', RandomUnderSampler(random_state=42)),\n",
    "    ('model', RandomForestClassifier(random_state=42))\n",
    "])\n",
    "under_pipeline.fit(X_train_scaled, y_train)\n",
    "y_pred_under = under_pipeline.predict(X_val_scaled)\n",
    "\n",
    "f1_under = f1_score(y_val, y_pred_under)\n",
    "roc_auc_under = roc_auc_score(y_val, under_pipeline.predict_proba(X_val_scaled)[:, 1])\n",
    "\n",
    "print(\"Modelo con Undersampling:\")\n",
    "print(\"F1 Score:\", round(f1_under, 4))\n",
    "print(\"AUC-ROC:\", round(roc_auc_under, 4))\n",
    "print()"
   ]
  },
  {
   "cell_type": "markdown",
   "metadata": {},
   "source": [
    "<div class=\"alert alert-block alert-success\">\n",
    "<b>Celda [17]</b> <a class=\"tocSkip\"></a><br>\n",
    "También se implementa correctamente un modelo con submuestreo aleatorio. Es positivo comparar distintas estrategias para el desbalanceo. La comparación con el modelo de SMOTE es adecuada y está bien fundamentada.\n",
    "</div>"
   ]
  },
  {
   "cell_type": "code",
   "execution_count": 18,
   "metadata": {
    "scrolled": true,
    "trusted": false
   },
   "outputs": [
    {
     "name": "stdout",
     "output_type": "stream",
     "text": [
      "Evaluación en conjunto de prueba:\n",
      "F1 Score: 0.593\n",
      "AUC-ROC: 0.8499\n",
      "\n",
      "Reporte de clasificación:\n",
      "              precision    recall  f1-score   support\n",
      "\n",
      "           0       0.89      0.90      0.90      1593\n",
      "           1       0.61      0.58      0.59       407\n",
      "\n",
      "    accuracy                           0.84      2000\n",
      "   macro avg       0.75      0.74      0.75      2000\n",
      "weighted avg       0.84      0.84      0.84      2000\n",
      "\n"
     ]
    }
   ],
   "source": [
    "# 5. Elegir mejor modelo y evaluar en test\n",
    "best_model = smote_pipeline if f1_smote > f1_under else under_pipeline\n",
    "\n",
    "y_pred_test = best_model.predict(X_test_scaled)\n",
    "f1_test = f1_score(y_test, y_pred_test)\n",
    "roc_auc_test = roc_auc_score(y_test, best_model.predict_proba(X_test_scaled)[:, 1])\n",
    "\n",
    "print(\"Evaluación en conjunto de prueba:\")\n",
    "print(\"F1 Score:\", round(f1_test, 4))\n",
    "print(\"AUC-ROC:\", round(roc_auc_test, 4))\n",
    "print()\n",
    "print(\"Reporte de clasificación:\")\n",
    "print(classification_report(y_test, y_pred_test))"
   ]
  },
  {
   "cell_type": "markdown",
   "metadata": {},
   "source": [
    "<div class=\"alert alert-block alert-success\">\n",
    "<b>Celda [18]</b> <a class=\"tocSkip\"></a><br>\n",
    "Excelente evaluación final del modelo en el conjunto de prueba. Se reportan métricas de manera completa, incluyendo el informe de clasificación. Además, se cumple el requisito de superar el F1 mínimo de 0.59. Buen cierre del flujo de trabajo.\n",
    "</div>"
   ]
  },
  {
   "cell_type": "markdown",
   "metadata": {},
   "source": [
    "# Conclusiones\n",
    "\n",
    "\t•\tCorregir este desequilibrio con técnicas como SMOTE o undersampling mejora significativamente la capacidad de detección de abandono.\n",
    "    \n",
    "    •   Características como la edad, actividad del cliente y número de productos tienen alto impacto.\n",
    "    \n",
    "    •\tEn proyectos similares, se ha visto que clientes más viejos, menos activos y con menos productos contratados son más propensos a abandonar el banco.\n",
    "    \n",
    "\t•\tEsto permite diseñar campañas específicas para retener a clientes con este perfil.\n",
    "    \n",
    "    •\tEste modelo es una herramienta preventiva: ayuda a detectar clientes en riesgo antes de que se vayan.\n",
    "    \n",
    "\t•\tEl banco puede enfocarse en ofrecerles incentivos, mejores tasas, beneficios personalizados, etc., lo \n",
    "    que puede reducir la tasa de deserción y mejorar la rentabilidad."
   ]
  },
  {
   "cell_type": "markdown",
   "metadata": {},
   "source": [
    "<div class=\"alert alert-block alert-success\">\n",
    "<b>Comentario final</b> <a class=\"tocSkip\"></a><br>\n",
    "¡Buen trabajo, Gerzon! Tu proyecto presenta un flujo muy bien estructurado, desde la preparación de los datos hasta la evaluación final. Destacan el uso de técnicas apropiadas para tratar el desbalanceo de clases, la correcta división de los conjuntos y la selección cuidadosa del modelo final. En general, es un excelente trabajo, claro y bien justificado. ¡Felicidades, sigue así!\n",
    "</div>"
   ]
  }
 ],
 "metadata": {
  "ExecuteTimeLog": [
   {
    "duration": 1028,
    "start_time": "2025-04-01T01:07:32.121Z"
   },
   {
    "duration": 5,
    "start_time": "2025-04-01T01:07:50.290Z"
   },
   {
    "duration": 4,
    "start_time": "2025-04-01T01:07:53.230Z"
   },
   {
    "duration": 3,
    "start_time": "2025-04-01T01:07:58.219Z"
   },
   {
    "duration": 3,
    "start_time": "2025-04-01T01:08:16.708Z"
   },
   {
    "duration": 4,
    "start_time": "2025-04-01T01:08:56.822Z"
   },
   {
    "duration": 5,
    "start_time": "2025-04-01T01:10:32.185Z"
   },
   {
    "duration": 3,
    "start_time": "2025-04-01T01:10:53.251Z"
   },
   {
    "duration": 2499,
    "start_time": "2025-04-01T01:11:24.988Z"
   },
   {
    "duration": 3,
    "start_time": "2025-04-01T01:11:42.912Z"
   },
   {
    "duration": 1028,
    "start_time": "2025-04-01T01:11:42.918Z"
   },
   {
    "duration": 0,
    "start_time": "2025-04-01T01:11:43.948Z"
   },
   {
    "duration": 16,
    "start_time": "2025-04-01T01:11:48.227Z"
   },
   {
    "duration": 4,
    "start_time": "2025-04-01T01:11:50.871Z"
   },
   {
    "duration": 2352,
    "start_time": "2025-04-01T01:11:53.759Z"
   },
   {
    "duration": 9535,
    "start_time": "2025-04-01T01:12:19.847Z"
   },
   {
    "duration": 18,
    "start_time": "2025-04-01T01:12:32.501Z"
   },
   {
    "duration": 973,
    "start_time": "2025-04-01T01:13:10.888Z"
   },
   {
    "duration": 1439,
    "start_time": "2025-04-01T01:13:17.549Z"
   },
   {
    "duration": 16,
    "start_time": "2025-04-01T01:13:42.931Z"
   },
   {
    "duration": 2272,
    "start_time": "2025-04-01T01:14:44.765Z"
   },
   {
    "duration": 1338,
    "start_time": "2025-04-01T01:15:33.210Z"
   },
   {
    "duration": 1086,
    "start_time": "2025-04-01T01:16:00.166Z"
   },
   {
    "duration": 13,
    "start_time": "2025-04-01T01:16:04.761Z"
   },
   {
    "duration": 14,
    "start_time": "2025-04-01T01:16:15.735Z"
   },
   {
    "duration": 13,
    "start_time": "2025-04-01T01:16:22.756Z"
   },
   {
    "duration": 3772,
    "start_time": "2025-04-01T01:17:10.646Z"
   },
   {
    "duration": 18,
    "start_time": "2025-04-01T01:17:23.501Z"
   },
   {
    "duration": 17,
    "start_time": "2025-04-01T01:17:27.350Z"
   },
   {
    "duration": 771,
    "start_time": "2025-04-01T01:17:49.703Z"
   },
   {
    "duration": 2,
    "start_time": "2025-04-01T01:17:55.341Z"
   },
   {
    "duration": 2,
    "start_time": "2025-04-01T01:18:08.859Z"
   },
   {
    "duration": 33,
    "start_time": "2025-04-01T01:19:02.975Z"
   },
   {
    "duration": 28,
    "start_time": "2025-04-01T01:19:27.517Z"
   },
   {
    "duration": 11,
    "start_time": "2025-04-01T01:19:33.945Z"
   },
   {
    "duration": 7,
    "start_time": "2025-04-01T01:19:48.954Z"
   },
   {
    "duration": 4,
    "start_time": "2025-04-01T01:22:58.170Z"
   },
   {
    "duration": 911,
    "start_time": "2025-04-01T01:23:00.251Z"
   },
   {
    "duration": 230,
    "start_time": "2025-04-01T01:23:10.695Z"
   },
   {
    "duration": 17,
    "start_time": "2025-04-01T01:23:54.890Z"
   },
   {
    "duration": 4,
    "start_time": "2025-04-01T01:23:57.301Z"
   },
   {
    "duration": 4,
    "start_time": "2025-04-01T01:24:13.607Z"
   },
   {
    "duration": 4,
    "start_time": "2025-04-01T01:24:16.265Z"
   },
   {
    "duration": 36,
    "start_time": "2025-04-01T01:24:23.301Z"
   },
   {
    "duration": 36,
    "start_time": "2025-04-01T01:24:41.861Z"
   },
   {
    "duration": 3,
    "start_time": "2025-04-01T01:27:04.940Z"
   },
   {
    "duration": 3,
    "start_time": "2025-04-01T01:27:04.945Z"
   },
   {
    "duration": 742,
    "start_time": "2025-04-01T01:27:04.950Z"
   },
   {
    "duration": 30,
    "start_time": "2025-04-01T01:27:05.693Z"
   },
   {
    "duration": 30,
    "start_time": "2025-04-01T01:27:05.727Z"
   },
   {
    "duration": 10,
    "start_time": "2025-04-01T01:27:05.759Z"
   },
   {
    "duration": 8,
    "start_time": "2025-04-01T01:27:05.771Z"
   },
   {
    "duration": 4,
    "start_time": "2025-04-01T01:27:05.781Z"
   },
   {
    "duration": 4,
    "start_time": "2025-04-01T01:27:05.809Z"
   },
   {
    "duration": 872,
    "start_time": "2025-04-01T01:27:12.147Z"
   },
   {
    "duration": 45,
    "start_time": "2025-04-01T01:27:20.934Z"
   },
   {
    "duration": 39,
    "start_time": "2025-04-01T01:27:25.766Z"
   },
   {
    "duration": 4,
    "start_time": "2025-04-01T01:27:30.120Z"
   },
   {
    "duration": 9,
    "start_time": "2025-04-01T01:27:47.665Z"
   },
   {
    "duration": 3,
    "start_time": "2025-04-01T01:28:12.586Z"
   },
   {
    "duration": 2,
    "start_time": "2025-04-01T01:28:12.591Z"
   },
   {
    "duration": 733,
    "start_time": "2025-04-01T01:28:12.595Z"
   },
   {
    "duration": 27,
    "start_time": "2025-04-01T01:28:13.330Z"
   },
   {
    "duration": 29,
    "start_time": "2025-04-01T01:28:13.359Z"
   },
   {
    "duration": 23,
    "start_time": "2025-04-01T01:28:13.390Z"
   },
   {
    "duration": 6,
    "start_time": "2025-04-01T01:28:13.414Z"
   },
   {
    "duration": 3,
    "start_time": "2025-04-01T01:28:13.421Z"
   },
   {
    "duration": 9,
    "start_time": "2025-04-01T01:28:13.426Z"
   },
   {
    "duration": 8,
    "start_time": "2025-04-01T01:28:18.594Z"
   },
   {
    "duration": 588,
    "start_time": "2025-04-01T01:28:23.992Z"
   },
   {
    "duration": 75,
    "start_time": "2025-04-01T01:28:28.485Z"
   },
   {
    "duration": 14,
    "start_time": "2025-04-01T01:28:34.583Z"
   },
   {
    "duration": 3,
    "start_time": "2025-04-01T01:28:50.214Z"
   },
   {
    "duration": 2,
    "start_time": "2025-04-01T01:28:50.219Z"
   },
   {
    "duration": 776,
    "start_time": "2025-04-01T01:28:50.222Z"
   },
   {
    "duration": 29,
    "start_time": "2025-04-01T01:28:51.000Z"
   },
   {
    "duration": 27,
    "start_time": "2025-04-01T01:28:51.031Z"
   },
   {
    "duration": 9,
    "start_time": "2025-04-01T01:28:51.060Z"
   },
   {
    "duration": 5,
    "start_time": "2025-04-01T01:28:51.071Z"
   },
   {
    "duration": 3,
    "start_time": "2025-04-01T01:28:51.078Z"
   },
   {
    "duration": 36,
    "start_time": "2025-04-01T01:28:51.083Z"
   },
   {
    "duration": 13,
    "start_time": "2025-04-01T01:28:51.120Z"
   },
   {
    "duration": 5,
    "start_time": "2025-04-01T01:29:06.332Z"
   },
   {
    "duration": 10,
    "start_time": "2025-04-01T01:29:23.846Z"
   },
   {
    "duration": 10,
    "start_time": "2025-04-01T01:29:35.608Z"
   },
   {
    "duration": 651,
    "start_time": "2025-04-01T01:29:53.893Z"
   },
   {
    "duration": 684,
    "start_time": "2025-04-01T01:30:12.182Z"
   },
   {
    "duration": 5,
    "start_time": "2025-04-01T01:30:27.499Z"
   },
   {
    "duration": 575,
    "start_time": "2025-04-01T01:30:50.180Z"
   },
   {
    "duration": 194,
    "start_time": "2025-04-01T02:11:00.004Z"
   },
   {
    "duration": 960,
    "start_time": "2025-04-01T02:11:09.158Z"
   },
   {
    "duration": 4134,
    "start_time": "2025-04-01T02:11:30.781Z"
   },
   {
    "duration": 3,
    "start_time": "2025-04-01T02:11:34.918Z"
   },
   {
    "duration": 1058,
    "start_time": "2025-04-01T02:11:34.923Z"
   },
   {
    "duration": 0,
    "start_time": "2025-04-01T02:11:35.983Z"
   },
   {
    "duration": 0,
    "start_time": "2025-04-01T02:11:35.985Z"
   },
   {
    "duration": 0,
    "start_time": "2025-04-01T02:11:35.986Z"
   },
   {
    "duration": 0,
    "start_time": "2025-04-01T02:11:35.987Z"
   },
   {
    "duration": 0,
    "start_time": "2025-04-01T02:11:35.988Z"
   },
   {
    "duration": 0,
    "start_time": "2025-04-01T02:11:35.989Z"
   },
   {
    "duration": 0,
    "start_time": "2025-04-01T02:11:35.990Z"
   },
   {
    "duration": 0,
    "start_time": "2025-04-01T02:11:35.991Z"
   },
   {
    "duration": 0,
    "start_time": "2025-04-01T02:11:35.992Z"
   },
   {
    "duration": 0,
    "start_time": "2025-04-01T02:11:35.993Z"
   },
   {
    "duration": 0,
    "start_time": "2025-04-01T02:11:35.993Z"
   },
   {
    "duration": 0,
    "start_time": "2025-04-01T02:11:36.011Z"
   },
   {
    "duration": 19,
    "start_time": "2025-04-01T02:11:39.554Z"
   },
   {
    "duration": 6,
    "start_time": "2025-04-01T02:11:49.100Z"
   },
   {
    "duration": 9307,
    "start_time": "2025-04-01T02:11:52.858Z"
   },
   {
    "duration": 18,
    "start_time": "2025-04-01T02:12:02.168Z"
   },
   {
    "duration": 1873,
    "start_time": "2025-04-01T02:12:12.956Z"
   },
   {
    "duration": 1333,
    "start_time": "2025-04-01T02:12:14.831Z"
   },
   {
    "duration": 750,
    "start_time": "2025-04-01T02:12:16.166Z"
   },
   {
    "duration": 36,
    "start_time": "2025-04-01T02:12:16.918Z"
   },
   {
    "duration": 28,
    "start_time": "2025-04-01T02:12:16.957Z"
   },
   {
    "duration": 9,
    "start_time": "2025-04-01T02:12:16.986Z"
   },
   {
    "duration": 16,
    "start_time": "2025-04-01T02:12:16.997Z"
   },
   {
    "duration": 3,
    "start_time": "2025-04-01T02:12:17.015Z"
   },
   {
    "duration": 14,
    "start_time": "2025-04-01T02:12:17.020Z"
   },
   {
    "duration": 4,
    "start_time": "2025-04-01T02:12:17.036Z"
   },
   {
    "duration": 7,
    "start_time": "2025-04-01T02:12:17.041Z"
   },
   {
    "duration": 9,
    "start_time": "2025-04-01T02:12:17.049Z"
   },
   {
    "duration": 9,
    "start_time": "2025-04-01T02:12:17.060Z"
   },
   {
    "duration": 721,
    "start_time": "2025-04-01T02:12:17.071Z"
   },
   {
    "duration": 1200,
    "start_time": "2025-04-01T02:12:17.794Z"
   },
   {
    "duration": 2092,
    "start_time": "2025-04-01T02:13:07.752Z"
   },
   {
    "duration": 354,
    "start_time": "2025-04-01T02:13:59.677Z"
   },
   {
    "duration": 71,
    "start_time": "2025-04-01T02:15:25.618Z"
   }
  ],
  "kernelspec": {
   "display_name": "tensorflow-mac",
   "language": "python",
   "name": "python3"
  },
  "language_info": {
   "codemirror_mode": {
    "name": "ipython",
    "version": 3
   },
   "file_extension": ".py",
   "mimetype": "text/x-python",
   "name": "python",
   "nbconvert_exporter": "python",
   "pygments_lexer": "ipython3",
   "version": "3.10.18"
  },
  "toc": {
   "base_numbering": 1,
   "nav_menu": {},
   "number_sections": true,
   "sideBar": true,
   "skip_h1_title": true,
   "title_cell": "Table of Contents",
   "title_sidebar": "Contents",
   "toc_cell": false,
   "toc_position": {},
   "toc_section_display": true,
   "toc_window_display": false
  }
 },
 "nbformat": 4,
 "nbformat_minor": 2
}
